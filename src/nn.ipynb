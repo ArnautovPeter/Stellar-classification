{
 "cells": [
  {
   "cell_type": "code",
   "execution_count": 1,
   "metadata": {},
   "outputs": [],
   "source": [
    "import pandas as pd\n",
    "import torch\n",
    "from sklearn.model_selection import train_test_split"
   ]
  },
  {
   "cell_type": "code",
   "execution_count": 2,
   "metadata": {},
   "outputs": [
    {
     "data": {
      "text/html": [
       "<div>\n",
       "<style scoped>\n",
       "    .dataframe tbody tr th:only-of-type {\n",
       "        vertical-align: middle;\n",
       "    }\n",
       "\n",
       "    .dataframe tbody tr th {\n",
       "        vertical-align: top;\n",
       "    }\n",
       "\n",
       "    .dataframe thead th {\n",
       "        text-align: right;\n",
       "    }\n",
       "</style>\n",
       "<table border=\"1\" class=\"dataframe\">\n",
       "  <thead>\n",
       "    <tr style=\"text-align: right;\">\n",
       "      <th></th>\n",
       "      <th>e_Vmag</th>\n",
       "      <th>Bmag</th>\n",
       "      <th>e_Bmag</th>\n",
       "      <th>gpmag</th>\n",
       "      <th>e_gpmag</th>\n",
       "      <th>rpmag</th>\n",
       "      <th>e_rpmag</th>\n",
       "      <th>ipmag</th>\n",
       "      <th>e_ipmag</th>\n",
       "      <th>fuv_mag</th>\n",
       "      <th>nuv_mag</th>\n",
       "      <th>err</th>\n",
       "      <th>present</th>\n",
       "      <th>min_mag</th>\n",
       "      <th>max_mag</th>\n",
       "    </tr>\n",
       "  </thead>\n",
       "  <tbody>\n",
       "    <tr>\n",
       "      <th>4</th>\n",
       "      <td>0.077</td>\n",
       "      <td>14.042</td>\n",
       "      <td>0.048</td>\n",
       "      <td>13.634</td>\n",
       "      <td>0.208</td>\n",
       "      <td>15.422</td>\n",
       "      <td>3.632</td>\n",
       "      <td>13.227</td>\n",
       "      <td>0.000</td>\n",
       "      <td>22.714</td>\n",
       "      <td>17.651</td>\n",
       "      <td>3.639082</td>\n",
       "      <td>1</td>\n",
       "      <td>13.29</td>\n",
       "      <td>13.41</td>\n",
       "    </tr>\n",
       "    <tr>\n",
       "      <th>5</th>\n",
       "      <td>0.027</td>\n",
       "      <td>11.592</td>\n",
       "      <td>0.025</td>\n",
       "      <td>13.105</td>\n",
       "      <td>3.575</td>\n",
       "      <td>10.993</td>\n",
       "      <td>0.165</td>\n",
       "      <td>11.012</td>\n",
       "      <td>0.052</td>\n",
       "      <td>18.347</td>\n",
       "      <td>14.734</td>\n",
       "      <td>3.579373</td>\n",
       "      <td>0</td>\n",
       "      <td>13.29</td>\n",
       "      <td>13.41</td>\n",
       "    </tr>\n",
       "    <tr>\n",
       "      <th>6</th>\n",
       "      <td>0.000</td>\n",
       "      <td>10.149</td>\n",
       "      <td>0.031</td>\n",
       "      <td>10.986</td>\n",
       "      <td>1.915</td>\n",
       "      <td>11.035</td>\n",
       "      <td>2.490</td>\n",
       "      <td>9.073</td>\n",
       "      <td>0.000</td>\n",
       "      <td>22.512</td>\n",
       "      <td>15.160</td>\n",
       "      <td>3.141383</td>\n",
       "      <td>0</td>\n",
       "      <td>13.29</td>\n",
       "      <td>13.41</td>\n",
       "    </tr>\n",
       "    <tr>\n",
       "      <th>7</th>\n",
       "      <td>0.056</td>\n",
       "      <td>12.160</td>\n",
       "      <td>0.084</td>\n",
       "      <td>11.716</td>\n",
       "      <td>0.123</td>\n",
       "      <td>13.713</td>\n",
       "      <td>2.663</td>\n",
       "      <td>11.033</td>\n",
       "      <td>0.400</td>\n",
       "      <td>23.511</td>\n",
       "      <td>16.393</td>\n",
       "      <td>2.697571</td>\n",
       "      <td>0</td>\n",
       "      <td>13.29</td>\n",
       "      <td>13.41</td>\n",
       "    </tr>\n",
       "    <tr>\n",
       "      <th>8</th>\n",
       "      <td>0.038</td>\n",
       "      <td>10.731</td>\n",
       "      <td>0.013</td>\n",
       "      <td>11.355</td>\n",
       "      <td>1.902</td>\n",
       "      <td>10.829</td>\n",
       "      <td>1.883</td>\n",
       "      <td>10.018</td>\n",
       "      <td>0.010</td>\n",
       "      <td>20.863</td>\n",
       "      <td>14.930</td>\n",
       "      <td>2.676753</td>\n",
       "      <td>0</td>\n",
       "      <td>13.29</td>\n",
       "      <td>13.41</td>\n",
       "    </tr>\n",
       "  </tbody>\n",
       "</table>\n",
       "</div>"
      ],
      "text/plain": [
       "   e_Vmag    Bmag  e_Bmag   gpmag  e_gpmag   rpmag  e_rpmag   ipmag  e_ipmag  \\\n",
       "4   0.077  14.042   0.048  13.634    0.208  15.422    3.632  13.227    0.000   \n",
       "5   0.027  11.592   0.025  13.105    3.575  10.993    0.165  11.012    0.052   \n",
       "6   0.000  10.149   0.031  10.986    1.915  11.035    2.490   9.073    0.000   \n",
       "7   0.056  12.160   0.084  11.716    0.123  13.713    2.663  11.033    0.400   \n",
       "8   0.038  10.731   0.013  11.355    1.902  10.829    1.883  10.018    0.010   \n",
       "\n",
       "   fuv_mag  nuv_mag       err  present  min_mag  max_mag  \n",
       "4   22.714   17.651  3.639082        1    13.29    13.41  \n",
       "5   18.347   14.734  3.579373        0    13.29    13.41  \n",
       "6   22.512   15.160  3.141383        0    13.29    13.41  \n",
       "7   23.511   16.393  2.697571        0    13.29    13.41  \n",
       "8   20.863   14.930  2.676753        0    13.29    13.41  "
      ]
     },
     "execution_count": 2,
     "metadata": {},
     "output_type": "execute_result"
    }
   ],
   "source": [
    "data = pd.read_csv(\"../data/whole_data.csv\").iloc[:, 4:].drop(\"type\", axis=1).dropna()\n",
    "features, labels = data.drop(\"present\", axis=1), data[\"present\"]\n",
    "data.head()"
   ]
  },
  {
   "cell_type": "code",
   "execution_count": 3,
   "metadata": {},
   "outputs": [
    {
     "data": {
      "text/plain": [
       "array([[ 0.077, 14.042,  0.048, ...,  1.   , 13.29 , 13.41 ],\n",
       "       [ 0.027, 11.592,  0.025, ...,  0.   , 13.29 , 13.41 ],\n",
       "       [ 0.   , 10.149,  0.031, ...,  0.   , 13.29 , 13.41 ],\n",
       "       ...,\n",
       "       [ 0.   ,  9.722,  0.   , ...,  0.   ,  8.39 ,  8.43 ],\n",
       "       [ 0.   ,  9.858,  0.   , ...,  0.   ,  8.39 ,  8.43 ],\n",
       "       [ 0.   ,  8.521,  0.   , ...,  0.   ,  8.39 ,  8.43 ]],\n",
       "      shape=(64984, 15))"
      ]
     },
     "execution_count": 3,
     "metadata": {},
     "output_type": "execute_result"
    }
   ],
   "source": [
    "# turn dataframe to tensors\n",
    "features = torch.from_numpy(features.to_numpy()).type(torch.float)\n",
    "labels = torch.from_numpy(labels.to_numpy()).type(torch.float)"
   ]
  },
  {
   "cell_type": "code",
   "execution_count": null,
   "metadata": {},
   "outputs": [],
   "source": [
    "X, x, Y, y = train_test_split(features, labels, train_size=0.8, random_state=42)"
   ]
  },
  {
   "cell_type": "code",
   "execution_count": null,
   "metadata": {},
   "outputs": [],
   "source": [
    "from torch import nn\n",
    "\n",
    "device = \"cuda\" if torch.cuda.is_available() else \"cpu\"\n",
    "device"
   ]
  }
 ],
 "metadata": {
  "kernelspec": {
   "display_name": ".venv",
   "language": "python",
   "name": "python3"
  },
  "language_info": {
   "codemirror_mode": {
    "name": "ipython",
    "version": 3
   },
   "file_extension": ".py",
   "mimetype": "text/x-python",
   "name": "python",
   "nbconvert_exporter": "python",
   "pygments_lexer": "ipython3",
   "version": "3.12.3"
  }
 },
 "nbformat": 4,
 "nbformat_minor": 2
}
